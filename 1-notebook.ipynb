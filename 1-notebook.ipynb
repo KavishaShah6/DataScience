{
 "cells": [
  {
   "cell_type": "markdown",
   "metadata": {},
   "source": [
    "# Data Science Tools and Ecosystem\n"
   ]
  },
  {
   "cell_type": "markdown",
   "metadata": {},
   "source": [
    "In this notebook, Data Science Tools and Ecosystem are summarized."
   ]
  },
  {
   "cell_type": "markdown",
   "metadata": {},
   "source": [
    "Some of the popular languages that Data Scientists use are:\n",
    "\n",
    "1. **Python**: Widely used for its simplicity, versatility, and extensive libraries such as NumPy, Pandas, and scikit-learn.\n",
    "2. **R**: Particularly popular for statistical analysis and visualization, with a strong ecosystem for data analysis and machine learning.\n",
    "3. **SQL**: Essential for database querying, a crucial skill for working with structured data in data science.\n",
    "4. **Julia**: Known for its speed and performance, becoming increasingly popular in certain data science applications.\n",
    "\n",
    "\n"
   ]
  },
  {
   "cell_type": "markdown",
   "metadata": {},
   "source": [
    "Some of the commonly used libraries by Data Scientists include:\n",
    "\n",
    "1. **NumPy**: A fundamental package for scientific computing with support for large, multi-dimensional arrays and matrices.\n",
    "2. **Pandas**: A powerful library for data manipulation and analysis, providing data structures like DataFrames for efficient data handling.\n",
    "3. **Matplotlib**: A widely-used plotting library for creating static, interactive, and animated visualizations in Python.\n",
    "4. **Scikit-learn**: A machine learning library that provides simple and efficient tools for data mining and data analysis.\n",
    "5.  **TensorFlow** and **PyTorch**: Deep learning frameworks widely used for building and training neural networks.\n",
    "\n",
    "These libraries form the backbone of many data science projects and are essential tools in a Data Scientist's toolkit.\n"
   ]
  },
  {
   "cell_type": "markdown",
   "metadata": {},
   "source": [
    "\n",
    "\n",
    "| Data Science Tools |\n",
    "|---------------------|\n",
    "| Jupyter Notebooks   |\n",
    "| RStudio             |\n",
    "| VSCode (Visual Studio Code) |\n"
   ]
  },
  {
   "cell_type": "markdown",
   "metadata": {},
   "source": [
    "\n",
    "\n",
    "### Below are a few examples of evaluating arithmetic expressions in Python.\n",
    "\n",
    "Arithmetic expressions in Python allow you to perform various mathematical operations. Let's explore some examples:\n",
    "\n",
    "1. Addition: `2 + 3`\n",
    "2. Subtraction: `5 - 2`\n",
    "3. Multiplication: `4 * 6`\n",
    "4. Division: `10 / 2`\n",
    "5. Exponentiation: `2 ** 3` (2 raised to the power of 3)"
   ]
  },
  {
   "cell_type": "code",
   "execution_count": 8,
   "metadata": {},
   "outputs": [
    {
     "data": {
      "text/plain": [
       "17"
      ]
     },
     "execution_count": 8,
     "metadata": {},
     "output_type": "execute_result"
    }
   ],
   "source": [
    "# This is a simple arithmetic expression to multiply then add integers.\n",
    "(3*4)+5\n"
   ]
  },
  {
   "cell_type": "code",
   "execution_count": 9,
   "metadata": {},
   "outputs": [
    {
     "data": {
      "text/plain": [
       "3.3333333333333335"
      ]
     },
     "execution_count": 9,
     "metadata": {},
     "output_type": "execute_result"
    }
   ],
   "source": [
    "# Convert 200 minutes to hours by dividing by 60\n",
    "minutes = 200\n",
    "hours = minutes / 60\n",
    "hours\n"
   ]
  },
  {
   "cell_type": "markdown",
   "metadata": {},
   "source": [
    "**Objectives:**\n",
    "\n",
    "- List popular languages for Data Science.\n",
    "- Understand basic arithmetic operations in Python.\n",
    "- Learn how to convert units, such as minutes to hours.\n",
    "- Explore key concepts in data analysis.\n",
    "- Gain familiarity with Jupyter Notebooks and Markdown."
   ]
  },
  {
   "cell_type": "markdown",
   "metadata": {},
   "source": [
    "## Author\n",
    "Kavisha Shah"
   ]
  }
 ],
 "metadata": {
  "kernelspec": {
   "display_name": "Python 3",
   "language": "python",
   "name": "python3"
  },
  "language_info": {
   "codemirror_mode": {
    "name": "ipython",
    "version": 3
   },
   "file_extension": ".py",
   "mimetype": "text/x-python",
   "name": "python",
   "nbconvert_exporter": "python",
   "pygments_lexer": "ipython3",
   "version": "3.10.2"
  }
 },
 "nbformat": 4,
 "nbformat_minor": 2
}
